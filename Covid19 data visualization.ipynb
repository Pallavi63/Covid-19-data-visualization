{
 "cells": [
  {
   "cell_type": "code",
   "execution_count": 1,
   "id": "bff8d3a3-7421-4915-a52e-635a33482686",
   "metadata": {},
   "outputs": [],
   "source": [
    "import pandas as pd"
   ]
  },
  {
   "cell_type": "code",
   "execution_count": 4,
   "id": "654c193e-355e-431e-9fb5-f5680aba3707",
   "metadata": {},
   "outputs": [],
   "source": [
    "#loading dataset\n",
    "url = 'https://covid.ourworldindata.org/data/owid-covid-data.csv'\n",
    "df = pd.read_csv(url)"
   ]
  },
  {
   "cell_type": "code",
   "execution_count": null,
   "id": "9d37d880-6951-4135-9b23-075b89ffec5d",
   "metadata": {},
   "outputs": [],
   "source": [
    "print(df(head))"
   ]
  },
  {
   "cell_type": "code",
   "execution_count": 5,
   "id": "02e6476e-455b-4c4c-b5c0-b189632549cc",
   "metadata": {},
   "outputs": [],
   "source": [
    "#preprocessing data\n",
    "# Keep relevant columns\n",
    "df = df[['location', 'date', 'total_cases', 'total_deaths', 'total_vaccinations']]\n",
    "\n",
    "# Convert date column\n",
    "df['date'] = pd.to_datetime(df['date'])\n",
    "\n",
    "# Drop rows with all NaN in selected metrics\n",
    "df.dropna(subset=['total_cases', 'total_deaths', 'total_vaccinations'], how='all', inplace=True)\n",
    "\n",
    "# Filter out 'World' aggregate if needed\n",
    "df = df[df['location'] != 'World']\n"
   ]
  },
  {
   "cell_type": "code",
   "execution_count": null,
   "id": "871a80eb-d1a2-4527-a133-00f2da1ad34a",
   "metadata": {},
   "outputs": [],
   "source": [
    "#line chart of total cases over time\n",
    "import plotly.express as px\n",
    "\n",
    "# Example: India\n",
    "country_data = df[df['location'] == 'India']\n",
    "\n",
    "fig = px.line(country_data, x='date', y='total_cases',\n",
    "              title='Total COVID-19 Cases in India Over Time')\n",
    "fig.show()"
   ]
  },
  {
   "cell_type": "code",
   "execution_count": null,
   "id": "439ef338-d054-4fc0-9a70-03f6afa9c3da",
   "metadata": {},
   "outputs": [],
   "source": [
    "#choropleth map(world mapof total cases)\n",
    "# Latest date data\n",
    "latest_date = df['date'].max()\n",
    "latest_df = df[df['date'] == latest_date]\n",
    "\n",
    "fig = px.choropleth(latest_df,\n",
    "                    locations='location',\n",
    "                    locationmode='country names',\n",
    "                    color='total_cases',\n",
    "                    title=f'Total COVID-19 Cases as of {latest_date.date()}',\n",
    "                    color_continuous_scale='Reds')\n",
    "fig.show()\n"
   ]
  },
  {
   "cell_type": "code",
   "execution_count": null,
   "id": "2f8595f9-dd3d-4a22-ab7e-3f1285f4820e",
   "metadata": {},
   "outputs": [],
   "source": [
    "#bar chart showing top 10 countries by total deaths\n",
    "top10_deaths = latest_df.nlargest(10, 'total_deaths')\n",
    "\n",
    "fig = px.bar(top10_deaths, x='location', y='total_deaths',\n",
    "             title='Top 10 Countries by Total COVID-19 Deaths',\n",
    "             color='total_deaths')\n",
    "fig.show()"
   ]
  },
  {
   "cell_type": "code",
   "execution_count": null,
   "id": "2c1d0534-0084-40a5-87c6-44f902fa9f2a",
   "metadata": {},
   "outputs": [],
   "source": [
    "#pie chart vaccinations by country\n",
    "# Top 10 countries by total vaccinations\n",
    "top10_vax = latest_df.nlargest(10, 'total_vaccinations')\n",
    "\n",
    "import plotly.express as px\n",
    "\n",
    "fig = px.pie(top10_vax, values='total_vaccinations', names='location',\n",
    "             title='Top 10 Countries by Total COVID-19 Vaccinations')\n",
    "fig.show()"
   ]
  },
  {
   "cell_type": "code",
   "execution_count": null,
   "id": "a5febcb6-1964-4193-8c15-7056a68245de",
   "metadata": {},
   "outputs": [],
   "source": [
    "#timeline animation - global cases over time\n",
    "df['date_str'] = df['date'].dt.strftime('%Y-%m-%d')\n",
    "\n",
    "fig = px.choropleth(df,\n",
    "                    locations='location',\n",
    "                    locationmode='country names',\n",
    "                    color='total_cases',\n",
    "                    animation_frame=df['date'].dt.strftime('%Y-%m-%d'),\n",
    "                    title='COVID-19 Total Cases Over Time',\n",
    "                    color_continuous_scale='Reds',\n",
    "                    range_color=[0, df['total_cases'].max()])\n",
    "fig.show()\n"
   ]
  },
  {
   "cell_type": "code",
   "execution_count": null,
   "id": "a67e4dbe-de39-42f3-95c0-6d0f8e5b0a5d",
   "metadata": {},
   "outputs": [],
   "source": []
  }
 ],
 "metadata": {
  "kernelspec": {
   "display_name": "Python 3 (ipykernel)",
   "language": "python",
   "name": "python3"
  },
  "language_info": {
   "codemirror_mode": {
    "name": "ipython",
    "version": 3
   },
   "file_extension": ".py",
   "mimetype": "text/x-python",
   "name": "python",
   "nbconvert_exporter": "python",
   "pygments_lexer": "ipython3",
   "version": "3.12.3"
  }
 },
 "nbformat": 4,
 "nbformat_minor": 5
}
